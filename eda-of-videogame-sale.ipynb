{
 "cells": [
  {
   "cell_type": "code",
   "execution_count": 1,
   "id": "08992e1a",
   "metadata": {
    "_cell_guid": "b1076dfc-b9ad-4769-8c92-a6c4dae69d19",
    "_uuid": "8f2839f25d086af736a60e9eeb907d3b93b6e0e5",
    "execution": {
     "iopub.execute_input": "2025-06-23T03:38:46.255688Z",
     "iopub.status.busy": "2025-06-23T03:38:46.255367Z",
     "iopub.status.idle": "2025-06-23T03:38:50.111299Z",
     "shell.execute_reply": "2025-06-23T03:38:50.110128Z"
    },
    "papermill": {
     "duration": 3.86843,
     "end_time": "2025-06-23T03:38:50.113160",
     "exception": false,
     "start_time": "2025-06-23T03:38:46.244730",
     "status": "completed"
    },
    "tags": []
   },
   "outputs": [],
   "source": [
    "import pandas as pd\n",
    "import numpy as np\n",
    "import matplotlib.pyplot as plt\n",
    "import plotly.express as px\n",
    "import seaborn as sns\n",
    "from wordcloud import WordCloud, STOPWORDS\n",
    "from collections import Counter\n",
    "import warnings\n",
    "warnings.filterwarnings('ignore')"
   ]
  },
  {
   "cell_type": "code",
   "execution_count": 2,
   "id": "ce9cc6e9",
   "metadata": {
    "execution": {
     "iopub.execute_input": "2025-06-23T03:38:50.129474Z",
     "iopub.status.busy": "2025-06-23T03:38:50.128866Z",
     "iopub.status.idle": "2025-06-23T03:38:50.206584Z",
     "shell.execute_reply": "2025-06-23T03:38:50.205419Z"
    },
    "papermill": {
     "duration": 0.087883,
     "end_time": "2025-06-23T03:38:50.208721",
     "exception": false,
     "start_time": "2025-06-23T03:38:50.120838",
     "status": "completed"
    },
    "tags": []
   },
   "outputs": [],
   "source": [
    "df=pd.read_csv(\"/kaggle/input/video-game-sales-analyze/vgsales new.csv\")\n"
   ]
  },
  {
   "cell_type": "code",
   "execution_count": 3,
   "id": "e294e1b2",
   "metadata": {
    "execution": {
     "iopub.execute_input": "2025-06-23T03:38:50.224743Z",
     "iopub.status.busy": "2025-06-23T03:38:50.224341Z",
     "iopub.status.idle": "2025-06-23T03:38:50.257937Z",
     "shell.execute_reply": "2025-06-23T03:38:50.256782Z"
    },
    "papermill": {
     "duration": 0.043691,
     "end_time": "2025-06-23T03:38:50.259806",
     "exception": false,
     "start_time": "2025-06-23T03:38:50.216115",
     "status": "completed"
    },
    "tags": []
   },
   "outputs": [
    {
     "data": {
      "text/html": [
       "<div>\n",
       "<style scoped>\n",
       "    .dataframe tbody tr th:only-of-type {\n",
       "        vertical-align: middle;\n",
       "    }\n",
       "\n",
       "    .dataframe tbody tr th {\n",
       "        vertical-align: top;\n",
       "    }\n",
       "\n",
       "    .dataframe thead th {\n",
       "        text-align: right;\n",
       "    }\n",
       "</style>\n",
       "<table border=\"1\" class=\"dataframe\">\n",
       "  <thead>\n",
       "    <tr style=\"text-align: right;\">\n",
       "      <th></th>\n",
       "      <th>Rank</th>\n",
       "      <th>Name</th>\n",
       "      <th>Platform</th>\n",
       "      <th>Year</th>\n",
       "      <th>Genre</th>\n",
       "      <th>Publisher</th>\n",
       "      <th>NA_Sales</th>\n",
       "      <th>EU_Sales</th>\n",
       "      <th>JP_Sales</th>\n",
       "      <th>Other_Sales</th>\n",
       "      <th>Global_Sales</th>\n",
       "    </tr>\n",
       "  </thead>\n",
       "  <tbody>\n",
       "    <tr>\n",
       "      <th>0</th>\n",
       "      <td>259</td>\n",
       "      <td>Asteroids</td>\n",
       "      <td>2600</td>\n",
       "      <td>1980.0</td>\n",
       "      <td>Shooter</td>\n",
       "      <td>Atari</td>\n",
       "      <td>4.00</td>\n",
       "      <td>0.26</td>\n",
       "      <td>0.0</td>\n",
       "      <td>0.05</td>\n",
       "      <td>4.31</td>\n",
       "    </tr>\n",
       "    <tr>\n",
       "      <th>1</th>\n",
       "      <td>545</td>\n",
       "      <td>Missile Command</td>\n",
       "      <td>2600</td>\n",
       "      <td>1980.0</td>\n",
       "      <td>Shooter</td>\n",
       "      <td>Atari</td>\n",
       "      <td>2.56</td>\n",
       "      <td>0.17</td>\n",
       "      <td>0.0</td>\n",
       "      <td>0.03</td>\n",
       "      <td>2.76</td>\n",
       "    </tr>\n",
       "    <tr>\n",
       "      <th>2</th>\n",
       "      <td>1768</td>\n",
       "      <td>Kaboom!</td>\n",
       "      <td>2600</td>\n",
       "      <td>1980.0</td>\n",
       "      <td>Misc</td>\n",
       "      <td>Activision</td>\n",
       "      <td>1.07</td>\n",
       "      <td>0.07</td>\n",
       "      <td>0.0</td>\n",
       "      <td>0.01</td>\n",
       "      <td>1.15</td>\n",
       "    </tr>\n",
       "    <tr>\n",
       "      <th>3</th>\n",
       "      <td>1971</td>\n",
       "      <td>Defender</td>\n",
       "      <td>2600</td>\n",
       "      <td>1980.0</td>\n",
       "      <td>Misc</td>\n",
       "      <td>Atari</td>\n",
       "      <td>0.99</td>\n",
       "      <td>0.05</td>\n",
       "      <td>0.0</td>\n",
       "      <td>0.01</td>\n",
       "      <td>1.05</td>\n",
       "    </tr>\n",
       "    <tr>\n",
       "      <th>4</th>\n",
       "      <td>2671</td>\n",
       "      <td>Boxing</td>\n",
       "      <td>2600</td>\n",
       "      <td>1980.0</td>\n",
       "      <td>Fighting</td>\n",
       "      <td>Activision</td>\n",
       "      <td>0.72</td>\n",
       "      <td>0.04</td>\n",
       "      <td>0.0</td>\n",
       "      <td>0.01</td>\n",
       "      <td>0.77</td>\n",
       "    </tr>\n",
       "  </tbody>\n",
       "</table>\n",
       "</div>"
      ],
      "text/plain": [
       "   Rank             Name Platform    Year     Genre   Publisher  NA_Sales  \\\n",
       "0   259        Asteroids     2600  1980.0   Shooter       Atari      4.00   \n",
       "1   545  Missile Command     2600  1980.0   Shooter       Atari      2.56   \n",
       "2  1768          Kaboom!     2600  1980.0      Misc  Activision      1.07   \n",
       "3  1971         Defender     2600  1980.0      Misc       Atari      0.99   \n",
       "4  2671           Boxing     2600  1980.0  Fighting  Activision      0.72   \n",
       "\n",
       "   EU_Sales  JP_Sales  Other_Sales  Global_Sales  \n",
       "0      0.26       0.0         0.05          4.31  \n",
       "1      0.17       0.0         0.03          2.76  \n",
       "2      0.07       0.0         0.01          1.15  \n",
       "3      0.05       0.0         0.01          1.05  \n",
       "4      0.04       0.0         0.01          0.77  "
      ]
     },
     "execution_count": 3,
     "metadata": {},
     "output_type": "execute_result"
    }
   ],
   "source": [
    "df.head()"
   ]
  },
  {
   "cell_type": "code",
   "execution_count": 4,
   "id": "ce4ac447",
   "metadata": {
    "execution": {
     "iopub.execute_input": "2025-06-23T03:38:50.275853Z",
     "iopub.status.busy": "2025-06-23T03:38:50.275486Z",
     "iopub.status.idle": "2025-06-23T03:38:50.290225Z",
     "shell.execute_reply": "2025-06-23T03:38:50.288884Z"
    },
    "papermill": {
     "duration": 0.0245,
     "end_time": "2025-06-23T03:38:50.291932",
     "exception": false,
     "start_time": "2025-06-23T03:38:50.267432",
     "status": "completed"
    },
    "tags": []
   },
   "outputs": [
    {
     "data": {
      "text/html": [
       "<div>\n",
       "<style scoped>\n",
       "    .dataframe tbody tr th:only-of-type {\n",
       "        vertical-align: middle;\n",
       "    }\n",
       "\n",
       "    .dataframe tbody tr th {\n",
       "        vertical-align: top;\n",
       "    }\n",
       "\n",
       "    .dataframe thead th {\n",
       "        text-align: right;\n",
       "    }\n",
       "</style>\n",
       "<table border=\"1\" class=\"dataframe\">\n",
       "  <thead>\n",
       "    <tr style=\"text-align: right;\">\n",
       "      <th></th>\n",
       "      <th>Rank</th>\n",
       "      <th>Name</th>\n",
       "      <th>Platform</th>\n",
       "      <th>Year</th>\n",
       "      <th>Genre</th>\n",
       "      <th>Publisher</th>\n",
       "      <th>NA_Sales</th>\n",
       "      <th>EU_Sales</th>\n",
       "      <th>JP_Sales</th>\n",
       "      <th>Other_Sales</th>\n",
       "      <th>Global_Sales</th>\n",
       "    </tr>\n",
       "  </thead>\n",
       "  <tbody>\n",
       "    <tr>\n",
       "      <th>16593</th>\n",
       "      <td>16310</td>\n",
       "      <td>Freaky Flyers</td>\n",
       "      <td>GC</td>\n",
       "      <td>NaN</td>\n",
       "      <td>Racing</td>\n",
       "      <td>Unknown</td>\n",
       "      <td>0.01</td>\n",
       "      <td>0.00</td>\n",
       "      <td>0.0</td>\n",
       "      <td>0.0</td>\n",
       "      <td>0.01</td>\n",
       "    </tr>\n",
       "    <tr>\n",
       "      <th>16594</th>\n",
       "      <td>16330</td>\n",
       "      <td>Inversion</td>\n",
       "      <td>PC</td>\n",
       "      <td>NaN</td>\n",
       "      <td>Shooter</td>\n",
       "      <td>Namco Bandai Games</td>\n",
       "      <td>0.01</td>\n",
       "      <td>0.00</td>\n",
       "      <td>0.0</td>\n",
       "      <td>0.0</td>\n",
       "      <td>0.01</td>\n",
       "    </tr>\n",
       "    <tr>\n",
       "      <th>16595</th>\n",
       "      <td>16369</td>\n",
       "      <td>Hakuouki: Shinsengumi Kitan</td>\n",
       "      <td>PS3</td>\n",
       "      <td>NaN</td>\n",
       "      <td>Adventure</td>\n",
       "      <td>Unknown</td>\n",
       "      <td>0.01</td>\n",
       "      <td>0.00</td>\n",
       "      <td>0.0</td>\n",
       "      <td>0.0</td>\n",
       "      <td>0.01</td>\n",
       "    </tr>\n",
       "    <tr>\n",
       "      <th>16596</th>\n",
       "      <td>16430</td>\n",
       "      <td>Virtua Quest</td>\n",
       "      <td>GC</td>\n",
       "      <td>NaN</td>\n",
       "      <td>Role-Playing</td>\n",
       "      <td>Unknown</td>\n",
       "      <td>0.01</td>\n",
       "      <td>0.00</td>\n",
       "      <td>0.0</td>\n",
       "      <td>0.0</td>\n",
       "      <td>0.01</td>\n",
       "    </tr>\n",
       "    <tr>\n",
       "      <th>16597</th>\n",
       "      <td>16496</td>\n",
       "      <td>The Smurfs</td>\n",
       "      <td>3DS</td>\n",
       "      <td>NaN</td>\n",
       "      <td>Action</td>\n",
       "      <td>Unknown</td>\n",
       "      <td>0.00</td>\n",
       "      <td>0.01</td>\n",
       "      <td>0.0</td>\n",
       "      <td>0.0</td>\n",
       "      <td>0.01</td>\n",
       "    </tr>\n",
       "  </tbody>\n",
       "</table>\n",
       "</div>"
      ],
      "text/plain": [
       "        Rank                         Name Platform  Year         Genre  \\\n",
       "16593  16310                Freaky Flyers       GC   NaN        Racing   \n",
       "16594  16330                    Inversion       PC   NaN       Shooter   \n",
       "16595  16369  Hakuouki: Shinsengumi Kitan      PS3   NaN     Adventure   \n",
       "16596  16430                 Virtua Quest       GC   NaN  Role-Playing   \n",
       "16597  16496                   The Smurfs      3DS   NaN        Action   \n",
       "\n",
       "                Publisher  NA_Sales  EU_Sales  JP_Sales  Other_Sales  \\\n",
       "16593             Unknown      0.01      0.00       0.0          0.0   \n",
       "16594  Namco Bandai Games      0.01      0.00       0.0          0.0   \n",
       "16595             Unknown      0.01      0.00       0.0          0.0   \n",
       "16596             Unknown      0.01      0.00       0.0          0.0   \n",
       "16597             Unknown      0.00      0.01       0.0          0.0   \n",
       "\n",
       "       Global_Sales  \n",
       "16593          0.01  \n",
       "16594          0.01  \n",
       "16595          0.01  \n",
       "16596          0.01  \n",
       "16597          0.01  "
      ]
     },
     "execution_count": 4,
     "metadata": {},
     "output_type": "execute_result"
    }
   ],
   "source": [
    "df.tail()"
   ]
  },
  {
   "cell_type": "code",
   "execution_count": 5,
   "id": "e57c59e8",
   "metadata": {
    "execution": {
     "iopub.execute_input": "2025-06-23T03:38:50.308463Z",
     "iopub.status.busy": "2025-06-23T03:38:50.308045Z",
     "iopub.status.idle": "2025-06-23T03:38:50.334980Z",
     "shell.execute_reply": "2025-06-23T03:38:50.333753Z"
    },
    "papermill": {
     "duration": 0.037212,
     "end_time": "2025-06-23T03:38:50.336847",
     "exception": false,
     "start_time": "2025-06-23T03:38:50.299635",
     "status": "completed"
    },
    "tags": []
   },
   "outputs": [
    {
     "name": "stdout",
     "output_type": "stream",
     "text": [
      "<class 'pandas.core.frame.DataFrame'>\n",
      "RangeIndex: 16598 entries, 0 to 16597\n",
      "Data columns (total 11 columns):\n",
      " #   Column        Non-Null Count  Dtype  \n",
      "---  ------        --------------  -----  \n",
      " 0   Rank          16598 non-null  int64  \n",
      " 1   Name          16598 non-null  object \n",
      " 2   Platform      16598 non-null  object \n",
      " 3   Year          16327 non-null  float64\n",
      " 4   Genre         16598 non-null  object \n",
      " 5   Publisher     16540 non-null  object \n",
      " 6   NA_Sales      16598 non-null  float64\n",
      " 7   EU_Sales      16598 non-null  float64\n",
      " 8   JP_Sales      16598 non-null  float64\n",
      " 9   Other_Sales   16598 non-null  float64\n",
      " 10  Global_Sales  16598 non-null  float64\n",
      "dtypes: float64(6), int64(1), object(4)\n",
      "memory usage: 1.4+ MB\n"
     ]
    }
   ],
   "source": [
    "df.info()"
   ]
  },
  {
   "cell_type": "code",
   "execution_count": 6,
   "id": "3e007222",
   "metadata": {
    "execution": {
     "iopub.execute_input": "2025-06-23T03:38:50.354163Z",
     "iopub.status.busy": "2025-06-23T03:38:50.353812Z",
     "iopub.status.idle": "2025-06-23T03:38:50.365679Z",
     "shell.execute_reply": "2025-06-23T03:38:50.364566Z"
    },
    "papermill": {
     "duration": 0.02248,
     "end_time": "2025-06-23T03:38:50.367524",
     "exception": false,
     "start_time": "2025-06-23T03:38:50.345044",
     "status": "completed"
    },
    "tags": []
   },
   "outputs": [
    {
     "data": {
      "text/plain": [
       "Rank              0\n",
       "Name              0\n",
       "Platform          0\n",
       "Year            271\n",
       "Genre             0\n",
       "Publisher        58\n",
       "NA_Sales          0\n",
       "EU_Sales          0\n",
       "JP_Sales          0\n",
       "Other_Sales       0\n",
       "Global_Sales      0\n",
       "dtype: int64"
      ]
     },
     "execution_count": 6,
     "metadata": {},
     "output_type": "execute_result"
    }
   ],
   "source": [
    "df.isna().sum()"
   ]
  },
  {
   "cell_type": "code",
   "execution_count": 7,
   "id": "65a569ca",
   "metadata": {
    "execution": {
     "iopub.execute_input": "2025-06-23T03:38:50.385111Z",
     "iopub.status.busy": "2025-06-23T03:38:50.384752Z",
     "iopub.status.idle": "2025-06-23T03:38:50.395054Z",
     "shell.execute_reply": "2025-06-23T03:38:50.394128Z"
    },
    "papermill": {
     "duration": 0.020845,
     "end_time": "2025-06-23T03:38:50.396829",
     "exception": false,
     "start_time": "2025-06-23T03:38:50.375984",
     "status": "completed"
    },
    "tags": []
   },
   "outputs": [],
   "source": [
    "invalid_rows=df[df['Platform'].str.isnumeric()]\n",
    "#print(invalid_rows.to_string())"
   ]
  },
  {
   "cell_type": "code",
   "execution_count": 8,
   "id": "c621d9a5",
   "metadata": {
    "execution": {
     "iopub.execute_input": "2025-06-23T03:38:50.413848Z",
     "iopub.status.busy": "2025-06-23T03:38:50.413510Z",
     "iopub.status.idle": "2025-06-23T03:38:50.420135Z",
     "shell.execute_reply": "2025-06-23T03:38:50.419306Z"
    },
    "papermill": {
     "duration": 0.017146,
     "end_time": "2025-06-23T03:38:50.421947",
     "exception": false,
     "start_time": "2025-06-23T03:38:50.404801",
     "status": "completed"
    },
    "tags": []
   },
   "outputs": [],
   "source": [
    "df['Platform']=df['Platform'].replace('2600','PC')\n"
   ]
  },
  {
   "cell_type": "code",
   "execution_count": 9,
   "id": "06827eb3",
   "metadata": {
    "execution": {
     "iopub.execute_input": "2025-06-23T03:38:50.438669Z",
     "iopub.status.busy": "2025-06-23T03:38:50.438322Z",
     "iopub.status.idle": "2025-06-23T03:38:50.447025Z",
     "shell.execute_reply": "2025-06-23T03:38:50.445624Z"
    },
    "papermill": {
     "duration": 0.01928,
     "end_time": "2025-06-23T03:38:50.448983",
     "exception": false,
     "start_time": "2025-06-23T03:38:50.429703",
     "status": "completed"
    },
    "tags": []
   },
   "outputs": [
    {
     "name": "stdout",
     "output_type": "stream",
     "text": [
      "The year with the most game published is 2009.0\n"
     ]
    }
   ],
   "source": [
    "#Handling null values in year\n",
    "\n",
    "#Find the mode of the year (most common year)\n",
    "most_common_year=df['Year'].mode()[0]\n",
    "print(f\"The year with the most game published is {most_common_year}\")\n",
    "\n",
    "df['Year'].fillna(most_common_year,inplace=True)\n",
    "\n"
   ]
  },
  {
   "cell_type": "code",
   "execution_count": 10,
   "id": "308fc6ef",
   "metadata": {
    "execution": {
     "iopub.execute_input": "2025-06-23T03:38:50.466248Z",
     "iopub.status.busy": "2025-06-23T03:38:50.465881Z",
     "iopub.status.idle": "2025-06-23T03:38:50.471760Z",
     "shell.execute_reply": "2025-06-23T03:38:50.470504Z"
    },
    "papermill": {
     "duration": 0.016458,
     "end_time": "2025-06-23T03:38:50.473567",
     "exception": false,
     "start_time": "2025-06-23T03:38:50.457109",
     "status": "completed"
    },
    "tags": []
   },
   "outputs": [
    {
     "name": "stdout",
     "output_type": "stream",
     "text": [
      "0\n"
     ]
    }
   ],
   "source": [
    "print(df['Year'].isna().sum())"
   ]
  },
  {
   "cell_type": "code",
   "execution_count": 11,
   "id": "80bccefa",
   "metadata": {
    "execution": {
     "iopub.execute_input": "2025-06-23T03:38:50.491254Z",
     "iopub.status.busy": "2025-06-23T03:38:50.490837Z",
     "iopub.status.idle": "2025-06-23T03:38:50.497835Z",
     "shell.execute_reply": "2025-06-23T03:38:50.496652Z"
    },
    "papermill": {
     "duration": 0.017521,
     "end_time": "2025-06-23T03:38:50.499596",
     "exception": false,
     "start_time": "2025-06-23T03:38:50.482075",
     "status": "completed"
    },
    "tags": []
   },
   "outputs": [
    {
     "name": "stdout",
     "output_type": "stream",
     "text": [
      "The publisher who published the most games is Electronic Arts\n"
     ]
    }
   ],
   "source": [
    "#Handling null values in Publisher\n",
    "most_common_publisher=df['Publisher'].mode()[0]\n",
    "print(f\"The publisher who published the most games is {most_common_publisher}\")"
   ]
  },
  {
   "cell_type": "code",
   "execution_count": 12,
   "id": "d265e38f",
   "metadata": {
    "execution": {
     "iopub.execute_input": "2025-06-23T03:38:50.517071Z",
     "iopub.status.busy": "2025-06-23T03:38:50.516569Z",
     "iopub.status.idle": "2025-06-23T03:38:50.524395Z",
     "shell.execute_reply": "2025-06-23T03:38:50.523346Z"
    },
    "papermill": {
     "duration": 0.018381,
     "end_time": "2025-06-23T03:38:50.525963",
     "exception": false,
     "start_time": "2025-06-23T03:38:50.507582",
     "status": "completed"
    },
    "tags": []
   },
   "outputs": [
    {
     "data": {
      "text/plain": [
       "58"
      ]
     },
     "execution_count": 12,
     "metadata": {},
     "output_type": "execute_result"
    }
   ],
   "source": [
    "df['Publisher'].isna().sum()"
   ]
  },
  {
   "cell_type": "code",
   "execution_count": 13,
   "id": "ae6e2c76",
   "metadata": {
    "execution": {
     "iopub.execute_input": "2025-06-23T03:38:50.543619Z",
     "iopub.status.busy": "2025-06-23T03:38:50.543125Z",
     "iopub.status.idle": "2025-06-23T03:38:50.697787Z",
     "shell.execute_reply": "2025-06-23T03:38:50.696844Z"
    },
    "papermill": {
     "duration": 0.165764,
     "end_time": "2025-06-23T03:38:50.699819",
     "exception": false,
     "start_time": "2025-06-23T03:38:50.534055",
     "status": "completed"
    },
    "tags": []
   },
   "outputs": [],
   "source": [
    "# Fill missing Publisher values with the most common Publisher for each Platform-Genre combination\n",
    "df['Publisher'] = df.groupby(['Platform', 'Genre'])['Publisher'].transform(\n",
    "    lambda x: x.fillna(x.mode()[0] if not x.mode().empty else 'Unknown')\n",
    ")"
   ]
  },
  {
   "cell_type": "code",
   "execution_count": 14,
   "id": "b3101a11",
   "metadata": {
    "execution": {
     "iopub.execute_input": "2025-06-23T03:38:50.717683Z",
     "iopub.status.busy": "2025-06-23T03:38:50.717297Z",
     "iopub.status.idle": "2025-06-23T03:38:50.724379Z",
     "shell.execute_reply": "2025-06-23T03:38:50.723334Z"
    },
    "papermill": {
     "duration": 0.017985,
     "end_time": "2025-06-23T03:38:50.725991",
     "exception": false,
     "start_time": "2025-06-23T03:38:50.708006",
     "status": "completed"
    },
    "tags": []
   },
   "outputs": [
    {
     "data": {
      "text/plain": [
       "0"
      ]
     },
     "execution_count": 14,
     "metadata": {},
     "output_type": "execute_result"
    }
   ],
   "source": [
    "df['Publisher'].isna().sum()"
   ]
  },
  {
   "cell_type": "code",
   "execution_count": 15,
   "id": "0c24f95c",
   "metadata": {
    "execution": {
     "iopub.execute_input": "2025-06-23T03:38:50.744135Z",
     "iopub.status.busy": "2025-06-23T03:38:50.743795Z",
     "iopub.status.idle": "2025-06-23T03:38:50.750045Z",
     "shell.execute_reply": "2025-06-23T03:38:50.748741Z"
    },
    "papermill": {
     "duration": 0.017656,
     "end_time": "2025-06-23T03:38:50.751994",
     "exception": false,
     "start_time": "2025-06-23T03:38:50.734338",
     "status": "completed"
    },
    "tags": []
   },
   "outputs": [
    {
     "name": "stdout",
     "output_type": "stream",
     "text": [
      "0    1980.0\n",
      "1    1980.0\n",
      "2    1980.0\n",
      "3    1980.0\n",
      "4    1980.0\n",
      "Name: Year, dtype: float64\n"
     ]
    }
   ],
   "source": [
    "print(df['Year'].head())"
   ]
  },
  {
   "cell_type": "code",
   "execution_count": 16,
   "id": "6273503c",
   "metadata": {
    "execution": {
     "iopub.execute_input": "2025-06-23T03:38:50.770017Z",
     "iopub.status.busy": "2025-06-23T03:38:50.769635Z",
     "iopub.status.idle": "2025-06-23T03:38:50.777241Z",
     "shell.execute_reply": "2025-06-23T03:38:50.776167Z"
    },
    "papermill": {
     "duration": 0.018602,
     "end_time": "2025-06-23T03:38:50.779128",
     "exception": false,
     "start_time": "2025-06-23T03:38:50.760526",
     "status": "completed"
    },
    "tags": []
   },
   "outputs": [],
   "source": [
    "df['Year'] = df['Year'].fillna(df['Year'].mode()[0])\n",
    "df['Year']=df['Year'].astype(int)"
   ]
  },
  {
   "cell_type": "code",
   "execution_count": 17,
   "id": "1e58a484",
   "metadata": {
    "execution": {
     "iopub.execute_input": "2025-06-23T03:38:50.797805Z",
     "iopub.status.busy": "2025-06-23T03:38:50.797467Z",
     "iopub.status.idle": "2025-06-23T03:38:50.803564Z",
     "shell.execute_reply": "2025-06-23T03:38:50.802416Z"
    },
    "papermill": {
     "duration": 0.017327,
     "end_time": "2025-06-23T03:38:50.805445",
     "exception": false,
     "start_time": "2025-06-23T03:38:50.788118",
     "status": "completed"
    },
    "tags": []
   },
   "outputs": [
    {
     "name": "stdout",
     "output_type": "stream",
     "text": [
      "0        1980\n",
      "1        1980\n",
      "2        1980\n",
      "3        1980\n",
      "4        1980\n",
      "         ... \n",
      "16593    2009\n",
      "16594    2009\n",
      "16595    2009\n",
      "16596    2009\n",
      "16597    2009\n",
      "Name: Year, Length: 16598, dtype: int64\n"
     ]
    }
   ],
   "source": [
    "print(df['Year'])"
   ]
  },
  {
   "cell_type": "code",
   "execution_count": 18,
   "id": "61a62fc3",
   "metadata": {
    "execution": {
     "iopub.execute_input": "2025-06-23T03:38:50.823765Z",
     "iopub.status.busy": "2025-06-23T03:38:50.823285Z",
     "iopub.status.idle": "2025-06-23T03:38:50.835387Z",
     "shell.execute_reply": "2025-06-23T03:38:50.834361Z"
    },
    "papermill": {
     "duration": 0.023066,
     "end_time": "2025-06-23T03:38:50.837073",
     "exception": false,
     "start_time": "2025-06-23T03:38:50.814007",
     "status": "completed"
    },
    "tags": []
   },
   "outputs": [
    {
     "data": {
      "text/plain": [
       "Rank            0\n",
       "Name            0\n",
       "Platform        0\n",
       "Year            0\n",
       "Genre           0\n",
       "Publisher       0\n",
       "NA_Sales        0\n",
       "EU_Sales        0\n",
       "JP_Sales        0\n",
       "Other_Sales     0\n",
       "Global_Sales    0\n",
       "dtype: int64"
      ]
     },
     "execution_count": 18,
     "metadata": {},
     "output_type": "execute_result"
    }
   ],
   "source": [
    "df.isna().sum()"
   ]
  },
  {
   "cell_type": "code",
   "execution_count": 19,
   "id": "2511f4d4",
   "metadata": {
    "execution": {
     "iopub.execute_input": "2025-06-23T03:38:50.854840Z",
     "iopub.status.busy": "2025-06-23T03:38:50.854502Z",
     "iopub.status.idle": "2025-06-23T03:38:50.891227Z",
     "shell.execute_reply": "2025-06-23T03:38:50.889973Z"
    },
    "papermill": {
     "duration": 0.047862,
     "end_time": "2025-06-23T03:38:50.893294",
     "exception": false,
     "start_time": "2025-06-23T03:38:50.845432",
     "status": "completed"
    },
    "tags": []
   },
   "outputs": [],
   "source": [
    "#changing wide format into long format\n",
    "df_melted = df.melt(id_vars=['Name','Platform', 'Genre', 'Publisher', 'Year'],\n",
    "                   value_vars=['NA_Sales','EU_Sales', 'JP_Sales', 'Other_Sales'],\n",
    "                   var_name='Region',\n",
    "                    value_name='Sales')"
   ]
  },
  {
   "cell_type": "code",
   "execution_count": 20,
   "id": "bfba4804",
   "metadata": {
    "execution": {
     "iopub.execute_input": "2025-06-23T03:38:50.911813Z",
     "iopub.status.busy": "2025-06-23T03:38:50.911440Z",
     "iopub.status.idle": "2025-06-23T03:38:50.921046Z",
     "shell.execute_reply": "2025-06-23T03:38:50.919664Z"
    },
    "papermill": {
     "duration": 0.020887,
     "end_time": "2025-06-23T03:38:50.922955",
     "exception": false,
     "start_time": "2025-06-23T03:38:50.902068",
     "status": "completed"
    },
    "tags": []
   },
   "outputs": [
    {
     "name": "stdout",
     "output_type": "stream",
     "text": [
      "                           Name Platform     Genre     Publisher  Year  \\\n",
      "0                     Asteroids       PC   Shooter         Atari  1980   \n",
      "1               Missile Command       PC   Shooter         Atari  1980   \n",
      "2                       Kaboom!       PC      Misc    Activision  1980   \n",
      "3                      Defender       PC      Misc         Atari  1980   \n",
      "4                        Boxing       PC  Fighting    Activision  1980   \n",
      "5                    Ice Hockey       PC    Sports    Activision  1980   \n",
      "6                       Freeway       PC    Action    Activision  1980   \n",
      "7                        Bridge       PC      Misc    Activision  1980   \n",
      "8                      Checkers       PC      Misc         Atari  1980   \n",
      "9                      Pitfall!       PC  Platform    Activision  1981   \n",
      "10                      Frogger       PC    Action  Parker Bros.  1981   \n",
      "11                 Demon Attack       PC   Shooter        Imagic  1981   \n",
      "12  E.T.: The Extra Terrestrial       PC    Action         Atari  1981   \n",
      "13                  Ms. Pac-Man       PC    Puzzle         Atari  1981   \n",
      "14                   River Raid       PC   Shooter    Activision  1981   \n",
      "15                  Donkey Kong       PC  Platform        Coleco  1981   \n",
      "16                    Centipede       PC   Shooter         Atari  1981   \n",
      "17                     Atlantis       PC   Shooter        Imagic  1981   \n",
      "18                    Megamania       PC   Shooter    Activision  1981   \n",
      "19                   Cosmic Ark       PC   Shooter        Imagic  1981   \n",
      "\n",
      "      Region  Sales  \n",
      "0   NA_Sales   4.00  \n",
      "1   NA_Sales   2.56  \n",
      "2   NA_Sales   1.07  \n",
      "3   NA_Sales   0.99  \n",
      "4   NA_Sales   0.72  \n",
      "5   NA_Sales   0.46  \n",
      "6   NA_Sales   0.32  \n",
      "7   NA_Sales   0.25  \n",
      "8   NA_Sales   0.22  \n",
      "9   NA_Sales   4.21  \n",
      "10  NA_Sales   2.06  \n",
      "11  NA_Sales   1.99  \n",
      "12  NA_Sales   1.84  \n",
      "13  NA_Sales   1.54  \n",
      "14  NA_Sales   1.49  \n",
      "15  NA_Sales   1.36  \n",
      "16  NA_Sales   1.26  \n",
      "17  NA_Sales   1.18  \n",
      "18  NA_Sales   1.03  \n",
      "19  NA_Sales   0.99  \n"
     ]
    }
   ],
   "source": [
    "print(df_melted.head(20))"
   ]
  },
  {
   "cell_type": "code",
   "execution_count": 21,
   "id": "0305402e",
   "metadata": {
    "execution": {
     "iopub.execute_input": "2025-06-23T03:38:50.941248Z",
     "iopub.status.busy": "2025-06-23T03:38:50.940874Z",
     "iopub.status.idle": "2025-06-23T03:38:50.947089Z",
     "shell.execute_reply": "2025-06-23T03:38:50.946067Z"
    },
    "papermill": {
     "duration": 0.017286,
     "end_time": "2025-06-23T03:38:50.948857",
     "exception": false,
     "start_time": "2025-06-23T03:38:50.931571",
     "status": "completed"
    },
    "tags": []
   },
   "outputs": [],
   "source": [
    "df['Decade'] = (df['Year'] // 10) * 10"
   ]
  },
  {
   "cell_type": "code",
   "execution_count": 22,
   "id": "8c9103ae",
   "metadata": {
    "execution": {
     "iopub.execute_input": "2025-06-23T03:38:50.967440Z",
     "iopub.status.busy": "2025-06-23T03:38:50.967005Z",
     "iopub.status.idle": "2025-06-23T03:38:50.982019Z",
     "shell.execute_reply": "2025-06-23T03:38:50.981045Z"
    },
    "papermill": {
     "duration": 0.026355,
     "end_time": "2025-06-23T03:38:50.983974",
     "exception": false,
     "start_time": "2025-06-23T03:38:50.957619",
     "status": "completed"
    },
    "tags": []
   },
   "outputs": [],
   "source": [
    "df['NA_Share'] = df['NA_Sales'] / df['Global_Sales']\n",
    "df['EU_Share'] = df['EU_Sales'] / df['Global_Sales']\n",
    "df['JP_Share'] = df['JP_Sales'] / df['Global_Sales']\n",
    "df['Other_Share'] = df['Other_Sales'] / df['Global_Sales']"
   ]
  },
  {
   "cell_type": "code",
   "execution_count": 23,
   "id": "fafa028c",
   "metadata": {
    "execution": {
     "iopub.execute_input": "2025-06-23T03:38:51.002427Z",
     "iopub.status.busy": "2025-06-23T03:38:51.001989Z",
     "iopub.status.idle": "2025-06-23T03:38:51.007387Z",
     "shell.execute_reply": "2025-06-23T03:38:51.006212Z"
    },
    "papermill": {
     "duration": 0.016522,
     "end_time": "2025-06-23T03:38:51.009157",
     "exception": false,
     "start_time": "2025-06-23T03:38:50.992635",
     "status": "completed"
    },
    "tags": []
   },
   "outputs": [],
   "source": [
    "#Success rate\n",
    "df['IS_Hit'] = df['Global_Sales'] >= 1.0 "
   ]
  },
  {
   "cell_type": "code",
   "execution_count": 24,
   "id": "a92480c9",
   "metadata": {
    "execution": {
     "iopub.execute_input": "2025-06-23T03:38:51.028339Z",
     "iopub.status.busy": "2025-06-23T03:38:51.027882Z",
     "iopub.status.idle": "2025-06-23T03:38:51.147911Z",
     "shell.execute_reply": "2025-06-23T03:38:51.146769Z"
    },
    "papermill": {
     "duration": 0.131851,
     "end_time": "2025-06-23T03:38:51.149979",
     "exception": false,
     "start_time": "2025-06-23T03:38:51.018128",
     "status": "completed"
    },
    "tags": []
   },
   "outputs": [],
   "source": [
    "#top genres by region\n",
    "\n",
    "region_genre=df_melted.groupby(['Genre', 'Region'])['Sales'].mean().unstack()"
   ]
  },
  {
   "cell_type": "code",
   "execution_count": 25,
   "id": "3bc1ce84",
   "metadata": {
    "execution": {
     "iopub.execute_input": "2025-06-23T03:38:51.168450Z",
     "iopub.status.busy": "2025-06-23T03:38:51.168058Z",
     "iopub.status.idle": "2025-06-23T03:38:51.174464Z",
     "shell.execute_reply": "2025-06-23T03:38:51.173139Z"
    },
    "papermill": {
     "duration": 0.01755,
     "end_time": "2025-06-23T03:38:51.176162",
     "exception": false,
     "start_time": "2025-06-23T03:38:51.158612",
     "status": "completed"
    },
    "tags": []
   },
   "outputs": [],
   "source": [
    "region_genre_percent = region_genre.div(region_genre.sum(axis=1), axis=0)"
   ]
  },
  {
   "cell_type": "code",
   "execution_count": 26,
   "id": "212ad7aa",
   "metadata": {
    "execution": {
     "iopub.execute_input": "2025-06-23T03:38:51.194926Z",
     "iopub.status.busy": "2025-06-23T03:38:51.194591Z",
     "iopub.status.idle": "2025-06-23T03:38:51.701668Z",
     "shell.execute_reply": "2025-06-23T03:38:51.700340Z"
    },
    "papermill": {
     "duration": 0.519039,
     "end_time": "2025-06-23T03:38:51.703961",
     "exception": false,
     "start_time": "2025-06-23T03:38:51.184922",
     "status": "completed"
    },
    "tags": []
   },
   "outputs": [
    {
     "data": {
      "image/png": "[encoded data removed]",
      "text/plain": [
       "<Figure size 1200x600 with 2 Axes>"
      ]
     },
     "metadata": {},
     "output_type": "display_data"
    }
   ],
   "source": [
    "\n",
    "\n",
    "plt.figure(figsize=(12,6))\n",
    "sns.heatmap(region_genre_percent, annot=True, fmt=\".1%\", cmap=\"coolwarm\")\n",
    "plt.title(\"Genre Sales Share by Region\")\n",
    "plt.show()"
   ]
  },
  {
   "cell_type": "markdown",
   "id": "4b6e195d",
   "metadata": {
    "papermill": {
     "duration": 0.010047,
     "end_time": "2025-06-23T03:38:51.724765",
     "exception": false,
     "start_time": "2025-06-23T03:38:51.714718",
     "status": "completed"
    },
    "tags": []
   },
   "source": [
    "Genres That Perform Best (Highest Avg Sales)\n",
    "NA_Sales\tPlatform (0.50), Shooter (0.44), Sports (0.29)\n",
    "EU_Sales\tPlatform (0.22), Shooter (0.24), Racing (0.19)\n",
    "JP_Sales\tRole-Playing (0.24), Platform (0.15), Puzzle (0.10)\n",
    "Other_Sales\tShooter (0.078), Platform (0.058), Racing (0.062)"
   ]
  },
  {
   "cell_type": "code",
   "execution_count": 27,
   "id": "73e40804",
   "metadata": {
    "execution": {
     "iopub.execute_input": "2025-06-23T03:38:51.746435Z",
     "iopub.status.busy": "2025-06-23T03:38:51.746000Z",
     "iopub.status.idle": "2025-06-23T03:38:51.758430Z",
     "shell.execute_reply": "2025-06-23T03:38:51.757312Z"
    },
    "papermill": {
     "duration": 0.02546,
     "end_time": "2025-06-23T03:38:51.760396",
     "exception": false,
     "start_time": "2025-06-23T03:38:51.734936",
     "status": "completed"
    },
    "tags": []
   },
   "outputs": [
    {
     "data": {
      "text/plain": [
       "Platform\n",
       "PS2     1255.64\n",
       "X360     979.96\n",
       "PS3      957.84\n",
       "Wii      926.71\n",
       "DS       822.49\n",
       "PS       730.66\n",
       "PC       355.90\n",
       "GBA      318.50\n",
       "PSP      296.28\n",
       "PS4      278.10\n",
       "XB       258.26\n",
       "GB       255.45\n",
       "NES      251.07\n",
       "3DS      247.46\n",
       "N64      218.88\n",
       "SNES     200.05\n",
       "GC       199.36\n",
       "XOne     141.06\n",
       "WiiU      81.86\n",
       "PSV       61.93\n",
       "SAT       33.59\n",
       "GEN       28.36\n",
       "DC        15.97\n",
       "SCD        1.87\n",
       "NG         1.44\n",
       "WS         1.42\n",
       "TG16       0.16\n",
       "3DO        0.10\n",
       "GG         0.04\n",
       "PCFX       0.03\n",
       "Name: Global_Sales, dtype: float64"
      ]
     },
     "execution_count": 27,
     "metadata": {},
     "output_type": "execute_result"
    }
   ],
   "source": [
    "df.groupby('Platform')['Global_Sales'].sum().sort_values(ascending=False)"
   ]
  },
  {
   "cell_type": "code",
   "execution_count": 28,
   "id": "4277c0e5",
   "metadata": {
    "execution": {
     "iopub.execute_input": "2025-06-23T03:38:51.783180Z",
     "iopub.status.busy": "2025-06-23T03:38:51.782838Z",
     "iopub.status.idle": "2025-06-23T03:38:51.796525Z",
     "shell.execute_reply": "2025-06-23T03:38:51.795457Z"
    },
    "papermill": {
     "duration": 0.026808,
     "end_time": "2025-06-23T03:38:51.798324",
     "exception": false,
     "start_time": "2025-06-23T03:38:51.771516",
     "status": "completed"
    },
    "tags": []
   },
   "outputs": [
    {
     "data": {
      "text/plain": [
       "Genre         Publisher                         \n",
       "Action        Sony Computer Entertainment Europe    5.990000\n",
       "              Palcom                                4.170000\n",
       "Racing        Nintendo                              4.089189\n",
       "Sports        Nintendo                              3.963818\n",
       "Platform      Nintendo                              3.780796\n",
       "Shooter       Microsoft Game Studios                3.409286\n",
       "Role-Playing  Bethesda Softworks                    3.185882\n",
       "Fighting      Nintendo                              2.963889\n",
       "Simulation    Nintendo                              2.940345\n",
       "Action        Hasbro Interactive                    2.795000\n",
       "Name: Global_Sales, dtype: float64"
      ]
     },
     "execution_count": 28,
     "metadata": {},
     "output_type": "execute_result"
    }
   ],
   "source": [
    "df.groupby(['Genre', 'Publisher'])['Global_Sales'].mean().sort_values(ascending=False).head(10)"
   ]
  },
  {
   "cell_type": "markdown",
   "id": "ba47956e",
   "metadata": {
    "papermill": {
     "duration": 0.010058,
     "end_time": "2025-06-23T03:38:51.819122",
     "exception": false,
     "start_time": "2025-06-23T03:38:51.809064",
     "status": "completed"
    },
    "tags": []
   },
   "source": [
    "Nintendo is dominating"
   ]
  },
  {
   "cell_type": "code",
   "execution_count": 29,
   "id": "cc5172d6",
   "metadata": {
    "execution": {
     "iopub.execute_input": "2025-06-23T03:38:51.842408Z",
     "iopub.status.busy": "2025-06-23T03:38:51.841996Z",
     "iopub.status.idle": "2025-06-23T03:38:52.123232Z",
     "shell.execute_reply": "2025-06-23T03:38:52.122070Z"
    },
    "papermill": {
     "duration": 0.294733,
     "end_time": "2025-06-23T03:38:52.125037",
     "exception": false,
     "start_time": "2025-06-23T03:38:51.830304",
     "status": "completed"
    },
    "tags": []
   },
   "outputs": [
    {
     "data": {
      "text/plain": [
       "<Axes: xlabel='Year'>"
      ]
     },
     "execution_count": 29,
     "metadata": {},
     "output_type": "execute_result"
    },
    {
     "data": {
      "image/png": "[encoded data removed]",
      "text/plain": [
       "<Figure size 640x480 with 1 Axes>"
      ]
     },
     "metadata": {},
     "output_type": "display_data"
    }
   ],
   "source": [
    "df.groupby('Year')['Global_Sales'].sum().plot()"
   ]
  },
  {
   "cell_type": "code",
   "execution_count": 30,
   "id": "0b810082",
   "metadata": {
    "execution": {
     "iopub.execute_input": "2025-06-23T03:38:52.149149Z",
     "iopub.status.busy": "2025-06-23T03:38:52.148816Z",
     "iopub.status.idle": "2025-06-23T03:38:52.166939Z",
     "shell.execute_reply": "2025-06-23T03:38:52.165957Z"
    },
    "papermill": {
     "duration": 0.03215,
     "end_time": "2025-06-23T03:38:52.168843",
     "exception": false,
     "start_time": "2025-06-23T03:38:52.136693",
     "status": "completed"
    },
    "tags": []
   },
   "outputs": [],
   "source": [
    "platform_counts = df.groupby('Name')['Platform'].nunique()\n",
    "\n"
   ]
  },
  {
   "cell_type": "code",
   "execution_count": 31,
   "id": "4838ced1",
   "metadata": {
    "execution": {
     "iopub.execute_input": "2025-06-23T03:38:52.193029Z",
     "iopub.status.busy": "2025-06-23T03:38:52.192679Z",
     "iopub.status.idle": "2025-06-23T03:38:52.202217Z",
     "shell.execute_reply": "2025-06-23T03:38:52.201293Z"
    },
    "papermill": {
     "duration": 0.023562,
     "end_time": "2025-06-23T03:38:52.203939",
     "exception": false,
     "start_time": "2025-06-23T03:38:52.180377",
     "status": "completed"
    },
    "tags": []
   },
   "outputs": [],
   "source": [
    "df['Platform_Count'] = df['Name'].map(platform_counts)"
   ]
  },
  {
   "cell_type": "code",
   "execution_count": 32,
   "id": "13c96dcb",
   "metadata": {
    "execution": {
     "iopub.execute_input": "2025-06-23T03:38:52.227721Z",
     "iopub.status.busy": "2025-06-23T03:38:52.227366Z",
     "iopub.status.idle": "2025-06-23T03:38:52.233765Z",
     "shell.execute_reply": "2025-06-23T03:38:52.232806Z"
    },
    "papermill": {
     "duration": 0.02021,
     "end_time": "2025-06-23T03:38:52.235584",
     "exception": false,
     "start_time": "2025-06-23T03:38:52.215374",
     "status": "completed"
    },
    "tags": []
   },
   "outputs": [],
   "source": [
    "sales_by_platform_count = df.groupby('Platform_Count')['Global_Sales'].mean().round(3).reset_index()\n"
   ]
  },
  {
   "cell_type": "code",
   "execution_count": 33,
   "id": "9979f608",
   "metadata": {
    "execution": {
     "iopub.execute_input": "2025-06-23T03:38:52.259628Z",
     "iopub.status.busy": "2025-06-23T03:38:52.259219Z",
     "iopub.status.idle": "2025-06-23T03:38:52.269447Z",
     "shell.execute_reply": "2025-06-23T03:38:52.268316Z"
    },
    "papermill": {
     "duration": 0.024066,
     "end_time": "2025-06-23T03:38:52.271176",
     "exception": false,
     "start_time": "2025-06-23T03:38:52.247110",
     "status": "completed"
    },
    "tags": []
   },
   "outputs": [
    {
     "data": {
      "text/html": [
       "<div>\n",
       "<style scoped>\n",
       "    .dataframe tbody tr th:only-of-type {\n",
       "        vertical-align: middle;\n",
       "    }\n",
       "\n",
       "    .dataframe tbody tr th {\n",
       "        vertical-align: top;\n",
       "    }\n",
       "\n",
       "    .dataframe thead th {\n",
       "        text-align: right;\n",
       "    }\n",
       "</style>\n",
       "<table border=\"1\" class=\"dataframe\">\n",
       "  <thead>\n",
       "    <tr style=\"text-align: right;\">\n",
       "      <th></th>\n",
       "      <th>Platform_Count</th>\n",
       "      <th>Avg Global Sales(millions)</th>\n",
       "    </tr>\n",
       "  </thead>\n",
       "  <tbody>\n",
       "    <tr>\n",
       "      <th>0</th>\n",
       "      <td>1</td>\n",
       "      <td>0.486</td>\n",
       "    </tr>\n",
       "    <tr>\n",
       "      <th>1</th>\n",
       "      <td>2</td>\n",
       "      <td>0.502</td>\n",
       "    </tr>\n",
       "    <tr>\n",
       "      <th>2</th>\n",
       "      <td>3</td>\n",
       "      <td>0.542</td>\n",
       "    </tr>\n",
       "    <tr>\n",
       "      <th>3</th>\n",
       "      <td>4</td>\n",
       "      <td>0.640</td>\n",
       "    </tr>\n",
       "    <tr>\n",
       "      <th>4</th>\n",
       "      <td>5</td>\n",
       "      <td>0.814</td>\n",
       "    </tr>\n",
       "    <tr>\n",
       "      <th>5</th>\n",
       "      <td>6</td>\n",
       "      <td>0.738</td>\n",
       "    </tr>\n",
       "    <tr>\n",
       "      <th>6</th>\n",
       "      <td>7</td>\n",
       "      <td>0.831</td>\n",
       "    </tr>\n",
       "    <tr>\n",
       "      <th>7</th>\n",
       "      <td>8</td>\n",
       "      <td>0.880</td>\n",
       "    </tr>\n",
       "    <tr>\n",
       "      <th>8</th>\n",
       "      <td>9</td>\n",
       "      <td>1.152</td>\n",
       "    </tr>\n",
       "    <tr>\n",
       "      <th>9</th>\n",
       "      <td>10</td>\n",
       "      <td>1.173</td>\n",
       "    </tr>\n",
       "  </tbody>\n",
       "</table>\n",
       "</div>"
      ],
      "text/plain": [
       "   Platform_Count  Avg Global Sales(millions)\n",
       "0               1                       0.486\n",
       "1               2                       0.502\n",
       "2               3                       0.542\n",
       "3               4                       0.640\n",
       "4               5                       0.814\n",
       "5               6                       0.738\n",
       "6               7                       0.831\n",
       "7               8                       0.880\n",
       "8               9                       1.152\n",
       "9              10                       1.173"
      ]
     },
     "execution_count": 33,
     "metadata": {},
     "output_type": "execute_result"
    }
   ],
   "source": [
    "sales_by_platform_count.rename(columns = {'Global_Sales': 'Avg Global Sales(millions)'})\n",
    "\n",
    "\n",
    "\n"
   ]
  },
  {
   "cell_type": "code",
   "execution_count": 34,
   "id": "40f16f27",
   "metadata": {
    "execution": {
     "iopub.execute_input": "2025-06-23T03:38:52.295502Z",
     "iopub.status.busy": "2025-06-23T03:38:52.295073Z",
     "iopub.status.idle": "2025-06-23T03:38:52.300572Z",
     "shell.execute_reply": "2025-06-23T03:38:52.299403Z"
    },
    "papermill": {
     "duration": 0.019579,
     "end_time": "2025-06-23T03:38:52.302347",
     "exception": false,
     "start_time": "2025-06-23T03:38:52.282768",
     "status": "completed"
    },
    "tags": []
   },
   "outputs": [
    {
     "name": "stdout",
     "output_type": "stream",
     "text": [
      "Index(['Platform_Count', 'Global_Sales'], dtype='object')\n"
     ]
    }
   ],
   "source": [
    "print(sales_by_platform_count.columns)\n"
   ]
  },
  {
   "cell_type": "markdown",
   "id": "9d9376e5",
   "metadata": {
    "papermill": {
     "duration": 0.011244,
     "end_time": "2025-06-23T03:38:52.325230",
     "exception": false,
     "start_time": "2025-06-23T03:38:52.313986",
     "status": "completed"
    },
    "tags": []
   },
   "source": [
    "As the Platform_Count increases, Global_Sales also increase."
   ]
  },
  {
   "cell_type": "markdown",
   "id": "4f1dba94",
   "metadata": {
    "papermill": {
     "duration": 0.011075,
     "end_time": "2025-06-23T03:38:52.347800",
     "exception": false,
     "start_time": "2025-06-23T03:38:52.336725",
     "status": "completed"
    },
    "tags": []
   },
   "source": []
  },
  {
   "cell_type": "code",
   "execution_count": null,
   "id": "68ce4c85",
   "metadata": {
    "papermill": {
     "duration": 0.010972,
     "end_time": "2025-06-23T03:38:52.369982",
     "exception": false,
     "start_time": "2025-06-23T03:38:52.359010",
     "status": "completed"
    },
    "tags": []
   },
   "outputs": [],
   "source": []
  },
  {
   "cell_type": "markdown",
   "id": "90101fb9",
   "metadata": {
    "papermill": {
     "duration": 0.011047,
     "end_time": "2025-06-23T03:38:52.392407",
     "exception": false,
     "start_time": "2025-06-23T03:38:52.381360",
     "status": "completed"
    },
    "tags": []
   },
   "source": []
  }
 ],
 "metadata": {
  "kaggle": {
   "accelerator": "none",
   "dataSources": [
    {
     "databundleVersionId": 10723868,
     "datasetId": 6449347,
     "sourceId": 10407294,
     "sourceType": "datasetVersion"
    },
    {
     "sourceId": 246847155,
     "sourceType": "kernelVersion"
    }
   ],
   "dockerImageVersionId": 30839,
   "isGpuEnabled": false,
   "isInternetEnabled": false,
   "language": "python",
   "sourceType": "notebook"
  },
  "kernelspec": {
   "display_name": "Python 3",
   "language": "python",
   "name": "python3"
  },
  "language_info": {
   "codemirror_mode": {
    "name": "ipython",
    "version": 3
   },
   "file_extension": ".py",
   "mimetype": "text/x-python",
   "name": "python",
   "nbconvert_exporter": "python",
   "pygments_lexer": "ipython3",
   "version": "3.10.12"
  },
  "papermill": {
   "default_parameters": {},
   "duration": 10.453562,
   "end_time": "2025-06-23T03:38:53.225301",
   "environment_variables": {},
   "exception": null,
   "input_path": "__notebook__.ipynb",
   "output_path": "__notebook__.ipynb",
   "parameters": {},
   "start_time": "2025-06-23T03:38:42.771739",
   "version": "2.6.0"
  }
 },
 "nbformat": 4,
 "nbformat_minor": 5
}
