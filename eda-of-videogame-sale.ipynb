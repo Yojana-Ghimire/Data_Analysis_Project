{
 "cells": [
  {
   "cell_type": "code",
   "execution_count": 1,
   "id": "300c9379",
   "metadata": {
    "_cell_guid": "b1076dfc-b9ad-4769-8c92-a6c4dae69d19",
    "_uuid": "8f2839f25d086af736a60e9eeb907d3b93b6e0e5",
    "execution": {
     "iopub.execute_input": "2025-06-23T02:05:28.980564Z",
     "iopub.status.busy": "2025-06-23T02:05:28.980069Z",
     "iopub.status.idle": "2025-06-23T02:05:33.019269Z",
     "shell.execute_reply": "2025-06-23T02:05:33.018270Z"
    },
    "papermill": {
     "duration": 4.047387,
     "end_time": "2025-06-23T02:05:33.021198",
     "exception": false,
     "start_time": "2025-06-23T02:05:28.973811",
     "status": "completed"
    },
    "tags": []
   },
   "outputs": [],
   "source": [
    "import pandas as pd\n",
    "import numpy as np\n",
    "import matplotlib.pyplot as plt\n",
    "import plotly.express as px\n",
    "import seaborn as sns\n",
    "from wordcloud import WordCloud, STOPWORDS\n",
    "from collections import Counter\n",
    "import warnings\n",
    "warnings.filterwarnings('ignore')"
   ]
  },
  {
   "cell_type": "code",
   "execution_count": 2,
   "id": "02ad40ce",
   "metadata": {
    "execution": {
     "iopub.execute_input": "2025-06-23T02:05:33.031437Z",
     "iopub.status.busy": "2025-06-23T02:05:33.030856Z",
     "iopub.status.idle": "2025-06-23T02:05:33.110535Z",
     "shell.execute_reply": "2025-06-23T02:05:33.109441Z"
    },
    "papermill": {
     "duration": 0.086698,
     "end_time": "2025-06-23T02:05:33.112462",
     "exception": false,
     "start_time": "2025-06-23T02:05:33.025764",
     "status": "completed"
    },
    "tags": []
   },
   "outputs": [],
   "source": [
    "df=pd.read_csv(\"/kaggle/input/video-game-sales-analyze/vgsales new.csv\")\n"
   ]
  },
  {
   "cell_type": "code",
   "execution_count": 3,
   "id": "720fdf94",
   "metadata": {
    "execution": {
     "iopub.execute_input": "2025-06-23T02:05:33.122287Z",
     "iopub.status.busy": "2025-06-23T02:05:33.121926Z",
     "iopub.status.idle": "2025-06-23T02:05:33.152910Z",
     "shell.execute_reply": "2025-06-23T02:05:33.151791Z"
    },
    "papermill": {
     "duration": 0.03819,
     "end_time": "2025-06-23T02:05:33.155051",
     "exception": false,
     "start_time": "2025-06-23T02:05:33.116861",
     "status": "completed"
    },
    "tags": []
   },
   "outputs": [
    {
     "data": {
      "text/html": [
       "<div>\n",
       "<style scoped>\n",
       "    .dataframe tbody tr th:only-of-type {\n",
       "        vertical-align: middle;\n",
       "    }\n",
       "\n",
       "    .dataframe tbody tr th {\n",
       "        vertical-align: top;\n",
       "    }\n",
       "\n",
       "    .dataframe thead th {\n",
       "        text-align: right;\n",
       "    }\n",
       "</style>\n",
       "<table border=\"1\" class=\"dataframe\">\n",
       "  <thead>\n",
       "    <tr style=\"text-align: right;\">\n",
       "      <th></th>\n",
       "      <th>Rank</th>\n",
       "      <th>Name</th>\n",
       "      <th>Platform</th>\n",
       "      <th>Year</th>\n",
       "      <th>Genre</th>\n",
       "      <th>Publisher</th>\n",
       "      <th>NA_Sales</th>\n",
       "      <th>EU_Sales</th>\n",
       "      <th>JP_Sales</th>\n",
       "      <th>Other_Sales</th>\n",
       "      <th>Global_Sales</th>\n",
       "    </tr>\n",
       "  </thead>\n",
       "  <tbody>\n",
       "    <tr>\n",
       "      <th>0</th>\n",
       "      <td>259</td>\n",
       "      <td>Asteroids</td>\n",
       "      <td>2600</td>\n",
       "      <td>1980.0</td>\n",
       "      <td>Shooter</td>\n",
       "      <td>Atari</td>\n",
       "      <td>4.00</td>\n",
       "      <td>0.26</td>\n",
       "      <td>0.0</td>\n",
       "      <td>0.05</td>\n",
       "      <td>4.31</td>\n",
       "    </tr>\n",
       "    <tr>\n",
       "      <th>1</th>\n",
       "      <td>545</td>\n",
       "      <td>Missile Command</td>\n",
       "      <td>2600</td>\n",
       "      <td>1980.0</td>\n",
       "      <td>Shooter</td>\n",
       "      <td>Atari</td>\n",
       "      <td>2.56</td>\n",
       "      <td>0.17</td>\n",
       "      <td>0.0</td>\n",
       "      <td>0.03</td>\n",
       "      <td>2.76</td>\n",
       "    </tr>\n",
       "    <tr>\n",
       "      <th>2</th>\n",
       "      <td>1768</td>\n",
       "      <td>Kaboom!</td>\n",
       "      <td>2600</td>\n",
       "      <td>1980.0</td>\n",
       "      <td>Misc</td>\n",
       "      <td>Activision</td>\n",
       "      <td>1.07</td>\n",
       "      <td>0.07</td>\n",
       "      <td>0.0</td>\n",
       "      <td>0.01</td>\n",
       "      <td>1.15</td>\n",
       "    </tr>\n",
       "    <tr>\n",
       "      <th>3</th>\n",
       "      <td>1971</td>\n",
       "      <td>Defender</td>\n",
       "      <td>2600</td>\n",
       "      <td>1980.0</td>\n",
       "      <td>Misc</td>\n",
       "      <td>Atari</td>\n",
       "      <td>0.99</td>\n",
       "      <td>0.05</td>\n",
       "      <td>0.0</td>\n",
       "      <td>0.01</td>\n",
       "      <td>1.05</td>\n",
       "    </tr>\n",
       "    <tr>\n",
       "      <th>4</th>\n",
       "      <td>2671</td>\n",
       "      <td>Boxing</td>\n",
       "      <td>2600</td>\n",
       "      <td>1980.0</td>\n",
       "      <td>Fighting</td>\n",
       "      <td>Activision</td>\n",
       "      <td>0.72</td>\n",
       "      <td>0.04</td>\n",
       "      <td>0.0</td>\n",
       "      <td>0.01</td>\n",
       "      <td>0.77</td>\n",
       "    </tr>\n",
       "  </tbody>\n",
       "</table>\n",
       "</div>"
      ],
      "text/plain": [
       "   Rank             Name Platform    Year     Genre   Publisher  NA_Sales  \\\n",
       "0   259        Asteroids     2600  1980.0   Shooter       Atari      4.00   \n",
       "1   545  Missile Command     2600  1980.0   Shooter       Atari      2.56   \n",
       "2  1768          Kaboom!     2600  1980.0      Misc  Activision      1.07   \n",
       "3  1971         Defender     2600  1980.0      Misc       Atari      0.99   \n",
       "4  2671           Boxing     2600  1980.0  Fighting  Activision      0.72   \n",
       "\n",
       "   EU_Sales  JP_Sales  Other_Sales  Global_Sales  \n",
       "0      0.26       0.0         0.05          4.31  \n",
       "1      0.17       0.0         0.03          2.76  \n",
       "2      0.07       0.0         0.01          1.15  \n",
       "3      0.05       0.0         0.01          1.05  \n",
       "4      0.04       0.0         0.01          0.77  "
      ]
     },
     "execution_count": 3,
     "metadata": {},
     "output_type": "execute_result"
    }
   ],
   "source": [
    "df.head()"
   ]
  },
  {
   "cell_type": "code",
   "execution_count": 4,
   "id": "f5e38ad6",
   "metadata": {
    "execution": {
     "iopub.execute_input": "2025-06-23T02:05:33.165324Z",
     "iopub.status.busy": "2025-06-23T02:05:33.164912Z",
     "iopub.status.idle": "2025-06-23T02:05:33.180063Z",
     "shell.execute_reply": "2025-06-23T02:05:33.178944Z"
    },
    "papermill": {
     "duration": 0.022287,
     "end_time": "2025-06-23T02:05:33.181865",
     "exception": false,
     "start_time": "2025-06-23T02:05:33.159578",
     "status": "completed"
    },
    "tags": []
   },
   "outputs": [
    {
     "data": {
      "text/html": [
       "<div>\n",
       "<style scoped>\n",
       "    .dataframe tbody tr th:only-of-type {\n",
       "        vertical-align: middle;\n",
       "    }\n",
       "\n",
       "    .dataframe tbody tr th {\n",
       "        vertical-align: top;\n",
       "    }\n",
       "\n",
       "    .dataframe thead th {\n",
       "        text-align: right;\n",
       "    }\n",
       "</style>\n",
       "<table border=\"1\" class=\"dataframe\">\n",
       "  <thead>\n",
       "    <tr style=\"text-align: right;\">\n",
       "      <th></th>\n",
       "      <th>Rank</th>\n",
       "      <th>Name</th>\n",
       "      <th>Platform</th>\n",
       "      <th>Year</th>\n",
       "      <th>Genre</th>\n",
       "      <th>Publisher</th>\n",
       "      <th>NA_Sales</th>\n",
       "      <th>EU_Sales</th>\n",
       "      <th>JP_Sales</th>\n",
       "      <th>Other_Sales</th>\n",
       "      <th>Global_Sales</th>\n",
       "    </tr>\n",
       "  </thead>\n",
       "  <tbody>\n",
       "    <tr>\n",
       "      <th>16593</th>\n",
       "      <td>16310</td>\n",
       "      <td>Freaky Flyers</td>\n",
       "      <td>GC</td>\n",
       "      <td>NaN</td>\n",
       "      <td>Racing</td>\n",
       "      <td>Unknown</td>\n",
       "      <td>0.01</td>\n",
       "      <td>0.00</td>\n",
       "      <td>0.0</td>\n",
       "      <td>0.0</td>\n",
       "      <td>0.01</td>\n",
       "    </tr>\n",
       "    <tr>\n",
       "      <th>16594</th>\n",
       "      <td>16330</td>\n",
       "      <td>Inversion</td>\n",
       "      <td>PC</td>\n",
       "      <td>NaN</td>\n",
       "      <td>Shooter</td>\n",
       "      <td>Namco Bandai Games</td>\n",
       "      <td>0.01</td>\n",
       "      <td>0.00</td>\n",
       "      <td>0.0</td>\n",
       "      <td>0.0</td>\n",
       "      <td>0.01</td>\n",
       "    </tr>\n",
       "    <tr>\n",
       "      <th>16595</th>\n",
       "      <td>16369</td>\n",
       "      <td>Hakuouki: Shinsengumi Kitan</td>\n",
       "      <td>PS3</td>\n",
       "      <td>NaN</td>\n",
       "      <td>Adventure</td>\n",
       "      <td>Unknown</td>\n",
       "      <td>0.01</td>\n",
       "      <td>0.00</td>\n",
       "      <td>0.0</td>\n",
       "      <td>0.0</td>\n",
       "      <td>0.01</td>\n",
       "    </tr>\n",
       "    <tr>\n",
       "      <th>16596</th>\n",
       "      <td>16430</td>\n",
       "      <td>Virtua Quest</td>\n",
       "      <td>GC</td>\n",
       "      <td>NaN</td>\n",
       "      <td>Role-Playing</td>\n",
       "      <td>Unknown</td>\n",
       "      <td>0.01</td>\n",
       "      <td>0.00</td>\n",
       "      <td>0.0</td>\n",
       "      <td>0.0</td>\n",
       "      <td>0.01</td>\n",
       "    </tr>\n",
       "    <tr>\n",
       "      <th>16597</th>\n",
       "      <td>16496</td>\n",
       "      <td>The Smurfs</td>\n",
       "      <td>3DS</td>\n",
       "      <td>NaN</td>\n",
       "      <td>Action</td>\n",
       "      <td>Unknown</td>\n",
       "      <td>0.00</td>\n",
       "      <td>0.01</td>\n",
       "      <td>0.0</td>\n",
       "      <td>0.0</td>\n",
       "      <td>0.01</td>\n",
       "    </tr>\n",
       "  </tbody>\n",
       "</table>\n",
       "</div>"
      ],
      "text/plain": [
       "        Rank                         Name Platform  Year         Genre  \\\n",
       "16593  16310                Freaky Flyers       GC   NaN        Racing   \n",
       "16594  16330                    Inversion       PC   NaN       Shooter   \n",
       "16595  16369  Hakuouki: Shinsengumi Kitan      PS3   NaN     Adventure   \n",
       "16596  16430                 Virtua Quest       GC   NaN  Role-Playing   \n",
       "16597  16496                   The Smurfs      3DS   NaN        Action   \n",
       "\n",
       "                Publisher  NA_Sales  EU_Sales  JP_Sales  Other_Sales  \\\n",
       "16593             Unknown      0.01      0.00       0.0          0.0   \n",
       "16594  Namco Bandai Games      0.01      0.00       0.0          0.0   \n",
       "16595             Unknown      0.01      0.00       0.0          0.0   \n",
       "16596             Unknown      0.01      0.00       0.0          0.0   \n",
       "16597             Unknown      0.00      0.01       0.0          0.0   \n",
       "\n",
       "       Global_Sales  \n",
       "16593          0.01  \n",
       "16594          0.01  \n",
       "16595          0.01  \n",
       "16596          0.01  \n",
       "16597          0.01  "
      ]
     },
     "execution_count": 4,
     "metadata": {},
     "output_type": "execute_result"
    }
   ],
   "source": [
    "df.tail()"
   ]
  },
  {
   "cell_type": "code",
   "execution_count": 5,
   "id": "49db43b8",
   "metadata": {
    "execution": {
     "iopub.execute_input": "2025-06-23T02:05:33.193474Z",
     "iopub.status.busy": "2025-06-23T02:05:33.193003Z",
     "iopub.status.idle": "2025-06-23T02:05:33.222121Z",
     "shell.execute_reply": "2025-06-23T02:05:33.220596Z"
    },
    "papermill": {
     "duration": 0.037496,
     "end_time": "2025-06-23T02:05:33.224123",
     "exception": false,
     "start_time": "2025-06-23T02:05:33.186627",
     "status": "completed"
    },
    "tags": []
   },
   "outputs": [
    {
     "name": "stdout",
     "output_type": "stream",
     "text": [
      "<class 'pandas.core.frame.DataFrame'>\n",
      "RangeIndex: 16598 entries, 0 to 16597\n",
      "Data columns (total 11 columns):\n",
      " #   Column        Non-Null Count  Dtype  \n",
      "---  ------        --------------  -----  \n",
      " 0   Rank          16598 non-null  int64  \n",
      " 1   Name          16598 non-null  object \n",
      " 2   Platform      16598 non-null  object \n",
      " 3   Year          16327 non-null  float64\n",
      " 4   Genre         16598 non-null  object \n",
      " 5   Publisher     16540 non-null  object \n",
      " 6   NA_Sales      16598 non-null  float64\n",
      " 7   EU_Sales      16598 non-null  float64\n",
      " 8   JP_Sales      16598 non-null  float64\n",
      " 9   Other_Sales   16598 non-null  float64\n",
      " 10  Global_Sales  16598 non-null  float64\n",
      "dtypes: float64(6), int64(1), object(4)\n",
      "memory usage: 1.4+ MB\n"
     ]
    }
   ],
   "source": [
    "df.info()"
   ]
  },
  {
   "cell_type": "code",
   "execution_count": 6,
   "id": "6cdcbc2f",
   "metadata": {
    "execution": {
     "iopub.execute_input": "2025-06-23T02:05:33.235432Z",
     "iopub.status.busy": "2025-06-23T02:05:33.235009Z",
     "iopub.status.idle": "2025-06-23T02:05:33.246899Z",
     "shell.execute_reply": "2025-06-23T02:05:33.245828Z"
    },
    "papermill": {
     "duration": 0.019466,
     "end_time": "2025-06-23T02:05:33.248635",
     "exception": false,
     "start_time": "2025-06-23T02:05:33.229169",
     "status": "completed"
    },
    "tags": []
   },
   "outputs": [
    {
     "data": {
      "text/plain": [
       "Rank              0\n",
       "Name              0\n",
       "Platform          0\n",
       "Year            271\n",
       "Genre             0\n",
       "Publisher        58\n",
       "NA_Sales          0\n",
       "EU_Sales          0\n",
       "JP_Sales          0\n",
       "Other_Sales       0\n",
       "Global_Sales      0\n",
       "dtype: int64"
      ]
     },
     "execution_count": 6,
     "metadata": {},
     "output_type": "execute_result"
    }
   ],
   "source": [
    "df.isna().sum()"
   ]
  },
  {
   "cell_type": "code",
   "execution_count": 7,
   "id": "3e2b11a2",
   "metadata": {
    "execution": {
     "iopub.execute_input": "2025-06-23T02:05:33.259624Z",
     "iopub.status.busy": "2025-06-23T02:05:33.259273Z",
     "iopub.status.idle": "2025-06-23T02:05:33.269573Z",
     "shell.execute_reply": "2025-06-23T02:05:33.268520Z"
    },
    "papermill": {
     "duration": 0.017844,
     "end_time": "2025-06-23T02:05:33.271411",
     "exception": false,
     "start_time": "2025-06-23T02:05:33.253567",
     "status": "completed"
    },
    "tags": []
   },
   "outputs": [],
   "source": [
    "invalid_rows=df[df['Platform'].str.isnumeric()]\n",
    "#print(invalid_rows.to_string())"
   ]
  },
  {
   "cell_type": "code",
   "execution_count": 8,
   "id": "82b33a01",
   "metadata": {
    "execution": {
     "iopub.execute_input": "2025-06-23T02:05:33.283014Z",
     "iopub.status.busy": "2025-06-23T02:05:33.282598Z",
     "iopub.status.idle": "2025-06-23T02:05:33.290483Z",
     "shell.execute_reply": "2025-06-23T02:05:33.289178Z"
    },
    "papermill": {
     "duration": 0.015845,
     "end_time": "2025-06-23T02:05:33.292653",
     "exception": false,
     "start_time": "2025-06-23T02:05:33.276808",
     "status": "completed"
    },
    "tags": []
   },
   "outputs": [],
   "source": [
    "df['Platform']=df['Platform'].replace('2600','PC')\n"
   ]
  },
  {
   "cell_type": "code",
   "execution_count": 9,
   "id": "746c0fbe",
   "metadata": {
    "execution": {
     "iopub.execute_input": "2025-06-23T02:05:33.304266Z",
     "iopub.status.busy": "2025-06-23T02:05:33.303846Z",
     "iopub.status.idle": "2025-06-23T02:05:33.313724Z",
     "shell.execute_reply": "2025-06-23T02:05:33.312499Z"
    },
    "papermill": {
     "duration": 0.017618,
     "end_time": "2025-06-23T02:05:33.315519",
     "exception": false,
     "start_time": "2025-06-23T02:05:33.297901",
     "status": "completed"
    },
    "tags": []
   },
   "outputs": [
    {
     "name": "stdout",
     "output_type": "stream",
     "text": [
      "The year with the most game published is 2009.0\n"
     ]
    }
   ],
   "source": [
    "#Handling null values in year\n",
    "\n",
    "#Find the mode of the year (most common year)\n",
    "most_common_year=df['Year'].mode()[0]\n",
    "print(f\"The year with the most game published is {most_common_year}\")\n",
    "\n",
    "df['Year'].fillna(most_common_year,inplace=True)\n",
    "\n"
   ]
  },
  {
   "cell_type": "code",
   "execution_count": 10,
   "id": "de43c4a0",
   "metadata": {
    "execution": {
     "iopub.execute_input": "2025-06-23T02:05:33.327288Z",
     "iopub.status.busy": "2025-06-23T02:05:33.326923Z",
     "iopub.status.idle": "2025-06-23T02:05:33.332995Z",
     "shell.execute_reply": "2025-06-23T02:05:33.331634Z"
    },
    "papermill": {
     "duration": 0.013905,
     "end_time": "2025-06-23T02:05:33.334770",
     "exception": false,
     "start_time": "2025-06-23T02:05:33.320865",
     "status": "completed"
    },
    "tags": []
   },
   "outputs": [
    {
     "name": "stdout",
     "output_type": "stream",
     "text": [
      "0\n"
     ]
    }
   ],
   "source": [
    "print(df['Year'].isna().sum())"
   ]
  },
  {
   "cell_type": "code",
   "execution_count": 11,
   "id": "8107aa42",
   "metadata": {
    "execution": {
     "iopub.execute_input": "2025-06-23T02:05:33.346322Z",
     "iopub.status.busy": "2025-06-23T02:05:33.345957Z",
     "iopub.status.idle": "2025-06-23T02:05:33.353011Z",
     "shell.execute_reply": "2025-06-23T02:05:33.351654Z"
    },
    "papermill": {
     "duration": 0.014829,
     "end_time": "2025-06-23T02:05:33.354766",
     "exception": false,
     "start_time": "2025-06-23T02:05:33.339937",
     "status": "completed"
    },
    "tags": []
   },
   "outputs": [
    {
     "name": "stdout",
     "output_type": "stream",
     "text": [
      "The publisher who published the most games is Electronic Arts\n"
     ]
    }
   ],
   "source": [
    "#Handling null values in Publisher\n",
    "most_common_publisher=df['Publisher'].mode()[0]\n",
    "print(f\"The publisher who published the most games is {most_common_publisher}\")"
   ]
  },
  {
   "cell_type": "code",
   "execution_count": 12,
   "id": "8b922118",
   "metadata": {
    "execution": {
     "iopub.execute_input": "2025-06-23T02:05:33.366662Z",
     "iopub.status.busy": "2025-06-23T02:05:33.366294Z",
     "iopub.status.idle": "2025-06-23T02:05:33.374444Z",
     "shell.execute_reply": "2025-06-23T02:05:33.373280Z"
    },
    "papermill": {
     "duration": 0.016324,
     "end_time": "2025-06-23T02:05:33.376466",
     "exception": false,
     "start_time": "2025-06-23T02:05:33.360142",
     "status": "completed"
    },
    "tags": []
   },
   "outputs": [
    {
     "data": {
      "text/plain": [
       "58"
      ]
     },
     "execution_count": 12,
     "metadata": {},
     "output_type": "execute_result"
    }
   ],
   "source": [
    "df['Publisher'].isna().sum()"
   ]
  },
  {
   "cell_type": "code",
   "execution_count": 13,
   "id": "11b270b3",
   "metadata": {
    "execution": {
     "iopub.execute_input": "2025-06-23T02:05:33.388943Z",
     "iopub.status.busy": "2025-06-23T02:05:33.388536Z",
     "iopub.status.idle": "2025-06-23T02:05:33.552302Z",
     "shell.execute_reply": "2025-06-23T02:05:33.551313Z"
    },
    "papermill": {
     "duration": 0.1721,
     "end_time": "2025-06-23T02:05:33.554324",
     "exception": false,
     "start_time": "2025-06-23T02:05:33.382224",
     "status": "completed"
    },
    "tags": []
   },
   "outputs": [],
   "source": [
    "# Fill missing Publisher values with the most common Publisher for each Platform-Genre combination\n",
    "df['Publisher'] = df.groupby(['Platform', 'Genre'])['Publisher'].transform(\n",
    "    lambda x: x.fillna(x.mode()[0] if not x.mode().empty else 'Unknown')\n",
    ")"
   ]
  },
  {
   "cell_type": "code",
   "execution_count": 14,
   "id": "02379fd7",
   "metadata": {
    "execution": {
     "iopub.execute_input": "2025-06-23T02:05:33.566413Z",
     "iopub.status.busy": "2025-06-23T02:05:33.566076Z",
     "iopub.status.idle": "2025-06-23T02:05:33.573426Z",
     "shell.execute_reply": "2025-06-23T02:05:33.572363Z"
    },
    "papermill": {
     "duration": 0.015865,
     "end_time": "2025-06-23T02:05:33.575472",
     "exception": false,
     "start_time": "2025-06-23T02:05:33.559607",
     "status": "completed"
    },
    "tags": []
   },
   "outputs": [
    {
     "data": {
      "text/plain": [
       "0"
      ]
     },
     "execution_count": 14,
     "metadata": {},
     "output_type": "execute_result"
    }
   ],
   "source": [
    "df['Publisher'].isna().sum()"
   ]
  },
  {
   "cell_type": "code",
   "execution_count": 15,
   "id": "d40348f6",
   "metadata": {
    "execution": {
     "iopub.execute_input": "2025-06-23T02:05:33.587974Z",
     "iopub.status.busy": "2025-06-23T02:05:33.587556Z",
     "iopub.status.idle": "2025-06-23T02:05:33.593490Z",
     "shell.execute_reply": "2025-06-23T02:05:33.592360Z"
    },
    "papermill": {
     "duration": 0.014368,
     "end_time": "2025-06-23T02:05:33.595201",
     "exception": false,
     "start_time": "2025-06-23T02:05:33.580833",
     "status": "completed"
    },
    "tags": []
   },
   "outputs": [
    {
     "name": "stdout",
     "output_type": "stream",
     "text": [
      "0    1980.0\n",
      "1    1980.0\n",
      "2    1980.0\n",
      "3    1980.0\n",
      "4    1980.0\n",
      "Name: Year, dtype: float64\n"
     ]
    }
   ],
   "source": [
    "print(df['Year'].head())"
   ]
  },
  {
   "cell_type": "code",
   "execution_count": 16,
   "id": "a9443aa0",
   "metadata": {
    "execution": {
     "iopub.execute_input": "2025-06-23T02:05:33.607882Z",
     "iopub.status.busy": "2025-06-23T02:05:33.607465Z",
     "iopub.status.idle": "2025-06-23T02:05:33.614637Z",
     "shell.execute_reply": "2025-06-23T02:05:33.613487Z"
    },
    "papermill": {
     "duration": 0.015644,
     "end_time": "2025-06-23T02:05:33.616705",
     "exception": false,
     "start_time": "2025-06-23T02:05:33.601061",
     "status": "completed"
    },
    "tags": []
   },
   "outputs": [],
   "source": [
    "df['Year'] = df['Year'].fillna(df['Year'].mode()[0])\n",
    "df['Year']=df['Year'].astype(int)"
   ]
  },
  {
   "cell_type": "code",
   "execution_count": 17,
   "id": "a0103f5e",
   "metadata": {
    "execution": {
     "iopub.execute_input": "2025-06-23T02:05:33.629252Z",
     "iopub.status.busy": "2025-06-23T02:05:33.628827Z",
     "iopub.status.idle": "2025-06-23T02:05:33.635613Z",
     "shell.execute_reply": "2025-06-23T02:05:33.634290Z"
    },
    "papermill": {
     "duration": 0.015235,
     "end_time": "2025-06-23T02:05:33.637525",
     "exception": false,
     "start_time": "2025-06-23T02:05:33.622290",
     "status": "completed"
    },
    "tags": []
   },
   "outputs": [
    {
     "name": "stdout",
     "output_type": "stream",
     "text": [
      "0        1980\n",
      "1        1980\n",
      "2        1980\n",
      "3        1980\n",
      "4        1980\n",
      "         ... \n",
      "16593    2009\n",
      "16594    2009\n",
      "16595    2009\n",
      "16596    2009\n",
      "16597    2009\n",
      "Name: Year, Length: 16598, dtype: int64\n"
     ]
    }
   ],
   "source": [
    "print(df['Year'])"
   ]
  },
  {
   "cell_type": "code",
   "execution_count": 18,
   "id": "8928683b",
   "metadata": {
    "execution": {
     "iopub.execute_input": "2025-06-23T02:05:33.649598Z",
     "iopub.status.busy": "2025-06-23T02:05:33.649258Z",
     "iopub.status.idle": "2025-06-23T02:05:33.661594Z",
     "shell.execute_reply": "2025-06-23T02:05:33.660465Z"
    },
    "papermill": {
     "duration": 0.020422,
     "end_time": "2025-06-23T02:05:33.663543",
     "exception": false,
     "start_time": "2025-06-23T02:05:33.643121",
     "status": "completed"
    },
    "tags": []
   },
   "outputs": [
    {
     "data": {
      "text/plain": [
       "Rank            0\n",
       "Name            0\n",
       "Platform        0\n",
       "Year            0\n",
       "Genre           0\n",
       "Publisher       0\n",
       "NA_Sales        0\n",
       "EU_Sales        0\n",
       "JP_Sales        0\n",
       "Other_Sales     0\n",
       "Global_Sales    0\n",
       "dtype: int64"
      ]
     },
     "execution_count": 18,
     "metadata": {},
     "output_type": "execute_result"
    }
   ],
   "source": [
    "df.isna().sum()"
   ]
  }
 ],
 "metadata": {
  "kaggle": {
   "accelerator": "none",
   "dataSources": [
    {
     "databundleVersionId": 10723868,
     "datasetId": 6449347,
     "sourceId": 10407294,
     "sourceType": "datasetVersion"
    },
    {
     "sourceId": 246847155,
     "sourceType": "kernelVersion"
    }
   ],
   "dockerImageVersionId": 30839,
   "isGpuEnabled": false,
   "isInternetEnabled": false,
   "language": "python",
   "sourceType": "notebook"
  },
  "kernelspec": {
   "display_name": "Python 3",
   "language": "python",
   "name": "python3"
  },
  "language_info": {
   "codemirror_mode": {
    "name": "ipython",
    "version": 3
   },
   "file_extension": ".py",
   "mimetype": "text/x-python",
   "name": "python",
   "nbconvert_exporter": "python",
   "pygments_lexer": "ipython3",
   "version": "3.10.12"
  },
  "papermill": {
   "default_parameters": {},
   "duration": 8.943173,
   "end_time": "2025-06-23T02:05:34.390446",
   "environment_variables": {},
   "exception": null,
   "input_path": "__notebook__.ipynb",
   "output_path": "__notebook__.ipynb",
   "parameters": {},
   "start_time": "2025-06-23T02:05:25.447273",
   "version": "2.6.0"
  }
 },
 "nbformat": 4,
 "nbformat_minor": 5
}
